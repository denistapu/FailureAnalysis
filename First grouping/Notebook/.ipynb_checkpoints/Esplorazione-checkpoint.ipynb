{
 "cells": [
  {
   "cell_type": "code",
   "execution_count": 88,
   "id": "f99e5ae6",
   "metadata": {},
   "outputs": [],
   "source": [
    "import pandas as pd\n",
    "import matplotlib.pyplot as plt\n",
    "import numpy as np\n",
    "import os"
   ]
  },
  {
   "cell_type": "markdown",
   "id": "2379c21a",
   "metadata": {},
   "source": [
    "# Caricamento dati"
   ]
  },
  {
   "cell_type": "code",
   "execution_count": 71,
   "id": "97d95c7a",
   "metadata": {},
   "outputs": [
    {
     "data": {
      "text/html": [
       "<div>\n",
       "<style scoped>\n",
       "    .dataframe tbody tr th:only-of-type {\n",
       "        vertical-align: middle;\n",
       "    }\n",
       "\n",
       "    .dataframe tbody tr th {\n",
       "        vertical-align: top;\n",
       "    }\n",
       "\n",
       "    .dataframe thead th {\n",
       "        text-align: right;\n",
       "    }\n",
       "</style>\n",
       "<table border=\"1\" class=\"dataframe\">\n",
       "  <thead>\n",
       "    <tr style=\"text-align: right;\">\n",
       "      <th></th>\n",
       "      <th>unit_id</th>\n",
       "      <th>tries_amount</th>\n",
       "      <th>questionnaire_amount</th>\n",
       "      <th>dimensions_amount</th>\n",
       "      <th>document_amount</th>\n",
       "      <th>current_try</th>\n",
       "      <th>q_0_age_question</th>\n",
       "      <th>q_0_age_answer</th>\n",
       "      <th>q_0_age_value</th>\n",
       "      <th>q_0_school_question</th>\n",
       "      <th>...</th>\n",
       "      <th>doc_speaker's-trustworthiness_value</th>\n",
       "      <th>doc_speaker's-trustworthiness_label</th>\n",
       "      <th>doc_speaker's-trustworthiness_justification</th>\n",
       "      <th>doc_speaker's-trustworthiness_url</th>\n",
       "      <th>doc_informativeness_value</th>\n",
       "      <th>doc_informativeness_label</th>\n",
       "      <th>doc_informativeness_justification</th>\n",
       "      <th>doc_informativeness_url</th>\n",
       "      <th>doc_accesses</th>\n",
       "      <th>doc_time_elapsed</th>\n",
       "    </tr>\n",
       "  </thead>\n",
       "  <tbody>\n",
       "    <tr>\n",
       "      <th>0</th>\n",
       "      <td>unit_1</td>\n",
       "      <td>10</td>\n",
       "      <td>4</td>\n",
       "      <td>9</td>\n",
       "      <td>11</td>\n",
       "      <td>1</td>\n",
       "      <td>What is your age range?</td>\n",
       "      <td>26-35</td>\n",
       "      <td>2.0</td>\n",
       "      <td>What is the highest level of school you have c...</td>\n",
       "      <td>...</td>\n",
       "      <td>0.0</td>\n",
       "      <td>neither-agree-nor-disagree</td>\n",
       "      <td>NaN</td>\n",
       "      <td>NaN</td>\n",
       "      <td>1.0</td>\n",
       "      <td>agree</td>\n",
       "      <td>NaN</td>\n",
       "      <td>NaN</td>\n",
       "      <td>1.0</td>\n",
       "      <td>175.61</td>\n",
       "    </tr>\n",
       "    <tr>\n",
       "      <th>1</th>\n",
       "      <td>unit_1</td>\n",
       "      <td>10</td>\n",
       "      <td>4</td>\n",
       "      <td>9</td>\n",
       "      <td>11</td>\n",
       "      <td>1</td>\n",
       "      <td>What is your age range?</td>\n",
       "      <td>26-35</td>\n",
       "      <td>2.0</td>\n",
       "      <td>What is the highest level of school you have c...</td>\n",
       "      <td>...</td>\n",
       "      <td>2.0</td>\n",
       "      <td>completely-agree</td>\n",
       "      <td>NaN</td>\n",
       "      <td>NaN</td>\n",
       "      <td>2.0</td>\n",
       "      <td>completely-agree</td>\n",
       "      <td>NaN</td>\n",
       "      <td>NaN</td>\n",
       "      <td>1.0</td>\n",
       "      <td>88.39</td>\n",
       "    </tr>\n",
       "    <tr>\n",
       "      <th>2</th>\n",
       "      <td>unit_1</td>\n",
       "      <td>10</td>\n",
       "      <td>4</td>\n",
       "      <td>9</td>\n",
       "      <td>11</td>\n",
       "      <td>1</td>\n",
       "      <td>What is your age range?</td>\n",
       "      <td>26-35</td>\n",
       "      <td>2.0</td>\n",
       "      <td>What is the highest level of school you have c...</td>\n",
       "      <td>...</td>\n",
       "      <td>0.0</td>\n",
       "      <td>neither-agree-nor-disagree</td>\n",
       "      <td>NaN</td>\n",
       "      <td>NaN</td>\n",
       "      <td>1.0</td>\n",
       "      <td>agree</td>\n",
       "      <td>NaN</td>\n",
       "      <td>NaN</td>\n",
       "      <td>1.0</td>\n",
       "      <td>84.60</td>\n",
       "    </tr>\n",
       "    <tr>\n",
       "      <th>3</th>\n",
       "      <td>unit_1</td>\n",
       "      <td>10</td>\n",
       "      <td>4</td>\n",
       "      <td>9</td>\n",
       "      <td>11</td>\n",
       "      <td>1</td>\n",
       "      <td>What is your age range?</td>\n",
       "      <td>26-35</td>\n",
       "      <td>2.0</td>\n",
       "      <td>What is the highest level of school you have c...</td>\n",
       "      <td>...</td>\n",
       "      <td>2.0</td>\n",
       "      <td>completely-agree</td>\n",
       "      <td>NaN</td>\n",
       "      <td>NaN</td>\n",
       "      <td>0.0</td>\n",
       "      <td>neither-agree-nor-disagree</td>\n",
       "      <td>NaN</td>\n",
       "      <td>NaN</td>\n",
       "      <td>1.0</td>\n",
       "      <td>53.41</td>\n",
       "    </tr>\n",
       "    <tr>\n",
       "      <th>4</th>\n",
       "      <td>unit_1</td>\n",
       "      <td>10</td>\n",
       "      <td>4</td>\n",
       "      <td>9</td>\n",
       "      <td>11</td>\n",
       "      <td>1</td>\n",
       "      <td>What is your age range?</td>\n",
       "      <td>26-35</td>\n",
       "      <td>2.0</td>\n",
       "      <td>What is the highest level of school you have c...</td>\n",
       "      <td>...</td>\n",
       "      <td>0.0</td>\n",
       "      <td>neither-agree-nor-disagree</td>\n",
       "      <td>NaN</td>\n",
       "      <td>NaN</td>\n",
       "      <td>2.0</td>\n",
       "      <td>completely-agree</td>\n",
       "      <td>NaN</td>\n",
       "      <td>NaN</td>\n",
       "      <td>1.0</td>\n",
       "      <td>361.84</td>\n",
       "    </tr>\n",
       "    <tr>\n",
       "      <th>...</th>\n",
       "      <td>...</td>\n",
       "      <td>...</td>\n",
       "      <td>...</td>\n",
       "      <td>...</td>\n",
       "      <td>...</td>\n",
       "      <td>...</td>\n",
       "      <td>...</td>\n",
       "      <td>...</td>\n",
       "      <td>...</td>\n",
       "      <td>...</td>\n",
       "      <td>...</td>\n",
       "      <td>...</td>\n",
       "      <td>...</td>\n",
       "      <td>...</td>\n",
       "      <td>...</td>\n",
       "      <td>...</td>\n",
       "      <td>...</td>\n",
       "      <td>...</td>\n",
       "      <td>...</td>\n",
       "      <td>...</td>\n",
       "      <td>...</td>\n",
       "    </tr>\n",
       "    <tr>\n",
       "      <th>2195</th>\n",
       "      <td>unit_156</td>\n",
       "      <td>10</td>\n",
       "      <td>4</td>\n",
       "      <td>9</td>\n",
       "      <td>11</td>\n",
       "      <td>1</td>\n",
       "      <td>What is your age range?</td>\n",
       "      <td>36-50</td>\n",
       "      <td>3.0</td>\n",
       "      <td>What is the highest level of school you have c...</td>\n",
       "      <td>...</td>\n",
       "      <td>0.0</td>\n",
       "      <td>neither-agree-nor-disagree</td>\n",
       "      <td>NaN</td>\n",
       "      <td>NaN</td>\n",
       "      <td>0.0</td>\n",
       "      <td>neither-agree-nor-disagree</td>\n",
       "      <td>NaN</td>\n",
       "      <td>NaN</td>\n",
       "      <td>1.0</td>\n",
       "      <td>74.91</td>\n",
       "    </tr>\n",
       "    <tr>\n",
       "      <th>2196</th>\n",
       "      <td>unit_156</td>\n",
       "      <td>10</td>\n",
       "      <td>4</td>\n",
       "      <td>9</td>\n",
       "      <td>11</td>\n",
       "      <td>1</td>\n",
       "      <td>What is your age range?</td>\n",
       "      <td>36-50</td>\n",
       "      <td>3.0</td>\n",
       "      <td>What is the highest level of school you have c...</td>\n",
       "      <td>...</td>\n",
       "      <td>1.0</td>\n",
       "      <td>agree</td>\n",
       "      <td>NaN</td>\n",
       "      <td>NaN</td>\n",
       "      <td>0.0</td>\n",
       "      <td>neither-agree-nor-disagree</td>\n",
       "      <td>NaN</td>\n",
       "      <td>NaN</td>\n",
       "      <td>1.0</td>\n",
       "      <td>53.62</td>\n",
       "    </tr>\n",
       "    <tr>\n",
       "      <th>2197</th>\n",
       "      <td>unit_156</td>\n",
       "      <td>10</td>\n",
       "      <td>4</td>\n",
       "      <td>9</td>\n",
       "      <td>11</td>\n",
       "      <td>1</td>\n",
       "      <td>What is your age range?</td>\n",
       "      <td>36-50</td>\n",
       "      <td>3.0</td>\n",
       "      <td>What is the highest level of school you have c...</td>\n",
       "      <td>...</td>\n",
       "      <td>0.0</td>\n",
       "      <td>neither-agree-nor-disagree</td>\n",
       "      <td>NaN</td>\n",
       "      <td>NaN</td>\n",
       "      <td>1.0</td>\n",
       "      <td>agree</td>\n",
       "      <td>NaN</td>\n",
       "      <td>NaN</td>\n",
       "      <td>1.0</td>\n",
       "      <td>115.88</td>\n",
       "    </tr>\n",
       "    <tr>\n",
       "      <th>2198</th>\n",
       "      <td>unit_156</td>\n",
       "      <td>10</td>\n",
       "      <td>4</td>\n",
       "      <td>9</td>\n",
       "      <td>11</td>\n",
       "      <td>1</td>\n",
       "      <td>What is your age range?</td>\n",
       "      <td>36-50</td>\n",
       "      <td>3.0</td>\n",
       "      <td>What is the highest level of school you have c...</td>\n",
       "      <td>...</td>\n",
       "      <td>0.0</td>\n",
       "      <td>neither-agree-nor-disagree</td>\n",
       "      <td>NaN</td>\n",
       "      <td>NaN</td>\n",
       "      <td>1.0</td>\n",
       "      <td>agree</td>\n",
       "      <td>NaN</td>\n",
       "      <td>NaN</td>\n",
       "      <td>1.0</td>\n",
       "      <td>72.78</td>\n",
       "    </tr>\n",
       "    <tr>\n",
       "      <th>2199</th>\n",
       "      <td>unit_156</td>\n",
       "      <td>10</td>\n",
       "      <td>4</td>\n",
       "      <td>9</td>\n",
       "      <td>11</td>\n",
       "      <td>1</td>\n",
       "      <td>What is your age range?</td>\n",
       "      <td>36-50</td>\n",
       "      <td>3.0</td>\n",
       "      <td>What is the highest level of school you have c...</td>\n",
       "      <td>...</td>\n",
       "      <td>1.0</td>\n",
       "      <td>agree</td>\n",
       "      <td>NaN</td>\n",
       "      <td>NaN</td>\n",
       "      <td>0.0</td>\n",
       "      <td>neither-agree-nor-disagree</td>\n",
       "      <td>NaN</td>\n",
       "      <td>NaN</td>\n",
       "      <td>1.0</td>\n",
       "      <td>113.93</td>\n",
       "    </tr>\n",
       "  </tbody>\n",
       "</table>\n",
       "<p>2200 rows × 93 columns</p>\n",
       "</div>"
      ],
      "text/plain": [
       "       unit_id  tries_amount  questionnaire_amount  dimensions_amount  \\\n",
       "0       unit_1            10                     4                  9   \n",
       "1       unit_1            10                     4                  9   \n",
       "2       unit_1            10                     4                  9   \n",
       "3       unit_1            10                     4                  9   \n",
       "4       unit_1            10                     4                  9   \n",
       "...        ...           ...                   ...                ...   \n",
       "2195  unit_156            10                     4                  9   \n",
       "2196  unit_156            10                     4                  9   \n",
       "2197  unit_156            10                     4                  9   \n",
       "2198  unit_156            10                     4                  9   \n",
       "2199  unit_156            10                     4                  9   \n",
       "\n",
       "      document_amount  current_try         q_0_age_question q_0_age_answer  \\\n",
       "0                  11            1  What is your age range?          26-35   \n",
       "1                  11            1  What is your age range?          26-35   \n",
       "2                  11            1  What is your age range?          26-35   \n",
       "3                  11            1  What is your age range?          26-35   \n",
       "4                  11            1  What is your age range?          26-35   \n",
       "...               ...          ...                      ...            ...   \n",
       "2195               11            1  What is your age range?          36-50   \n",
       "2196               11            1  What is your age range?          36-50   \n",
       "2197               11            1  What is your age range?          36-50   \n",
       "2198               11            1  What is your age range?          36-50   \n",
       "2199               11            1  What is your age range?          36-50   \n",
       "\n",
       "      q_0_age_value                                q_0_school_question  ...  \\\n",
       "0               2.0  What is the highest level of school you have c...  ...   \n",
       "1               2.0  What is the highest level of school you have c...  ...   \n",
       "2               2.0  What is the highest level of school you have c...  ...   \n",
       "3               2.0  What is the highest level of school you have c...  ...   \n",
       "4               2.0  What is the highest level of school you have c...  ...   \n",
       "...             ...                                                ...  ...   \n",
       "2195            3.0  What is the highest level of school you have c...  ...   \n",
       "2196            3.0  What is the highest level of school you have c...  ...   \n",
       "2197            3.0  What is the highest level of school you have c...  ...   \n",
       "2198            3.0  What is the highest level of school you have c...  ...   \n",
       "2199            3.0  What is the highest level of school you have c...  ...   \n",
       "\n",
       "     doc_speaker's-trustworthiness_value  doc_speaker's-trustworthiness_label  \\\n",
       "0                                    0.0           neither-agree-nor-disagree   \n",
       "1                                    2.0                     completely-agree   \n",
       "2                                    0.0           neither-agree-nor-disagree   \n",
       "3                                    2.0                     completely-agree   \n",
       "4                                    0.0           neither-agree-nor-disagree   \n",
       "...                                  ...                                  ...   \n",
       "2195                                 0.0           neither-agree-nor-disagree   \n",
       "2196                                 1.0                                agree   \n",
       "2197                                 0.0           neither-agree-nor-disagree   \n",
       "2198                                 0.0           neither-agree-nor-disagree   \n",
       "2199                                 1.0                                agree   \n",
       "\n",
       "     doc_speaker's-trustworthiness_justification  \\\n",
       "0                                            NaN   \n",
       "1                                            NaN   \n",
       "2                                            NaN   \n",
       "3                                            NaN   \n",
       "4                                            NaN   \n",
       "...                                          ...   \n",
       "2195                                         NaN   \n",
       "2196                                         NaN   \n",
       "2197                                         NaN   \n",
       "2198                                         NaN   \n",
       "2199                                         NaN   \n",
       "\n",
       "     doc_speaker's-trustworthiness_url  doc_informativeness_value  \\\n",
       "0                                  NaN                        1.0   \n",
       "1                                  NaN                        2.0   \n",
       "2                                  NaN                        1.0   \n",
       "3                                  NaN                        0.0   \n",
       "4                                  NaN                        2.0   \n",
       "...                                ...                        ...   \n",
       "2195                               NaN                        0.0   \n",
       "2196                               NaN                        0.0   \n",
       "2197                               NaN                        1.0   \n",
       "2198                               NaN                        1.0   \n",
       "2199                               NaN                        0.0   \n",
       "\n",
       "       doc_informativeness_label doc_informativeness_justification  \\\n",
       "0                          agree                               NaN   \n",
       "1               completely-agree                               NaN   \n",
       "2                          agree                               NaN   \n",
       "3     neither-agree-nor-disagree                               NaN   \n",
       "4               completely-agree                               NaN   \n",
       "...                          ...                               ...   \n",
       "2195  neither-agree-nor-disagree                               NaN   \n",
       "2196  neither-agree-nor-disagree                               NaN   \n",
       "2197                       agree                               NaN   \n",
       "2198                       agree                               NaN   \n",
       "2199  neither-agree-nor-disagree                               NaN   \n",
       "\n",
       "      doc_informativeness_url doc_accesses doc_time_elapsed  \n",
       "0                         NaN          1.0           175.61  \n",
       "1                         NaN          1.0            88.39  \n",
       "2                         NaN          1.0            84.60  \n",
       "3                         NaN          1.0            53.41  \n",
       "4                         NaN          1.0           361.84  \n",
       "...                       ...          ...              ...  \n",
       "2195                      NaN          1.0            74.91  \n",
       "2196                      NaN          1.0            53.62  \n",
       "2197                      NaN          1.0           115.88  \n",
       "2198                      NaN          1.0            72.78  \n",
       "2199                      NaN          1.0           113.93  \n",
       "\n",
       "[2200 rows x 93 columns]"
      ]
     },
     "execution_count": 71,
     "metadata": {},
     "output_type": "execute_result"
    }
   ],
   "source": [
    "fname_data=\"../Dati/multidimensional.csv\"\n",
    "dataf = pd.read_csv(fname_data)\n",
    "dataf"
   ]
  },
  {
   "cell_type": "markdown",
   "id": "547c9ae7",
   "metadata": {},
   "source": [
    "# Analisi"
   ]
  },
  {
   "cell_type": "code",
   "execution_count": 72,
   "id": "c596bde3",
   "metadata": {},
   "outputs": [],
   "source": [
    "#numero di statement da selezionare per file delle analisi\n",
    "n_stat=10"
   ]
  },
  {
   "cell_type": "markdown",
   "id": "f0e115d7",
   "metadata": {},
   "source": [
    "## ----------------------------------------------------------------------------------------------------------------------------------Elimina colonne che non servono all'analisi"
   ]
  },
  {
   "cell_type": "code",
   "execution_count": 73,
   "id": "6726d6ef",
   "metadata": {
    "scrolled": false
   },
   "outputs": [
    {
     "name": "stdout",
     "output_type": "stream",
     "text": [
      "['unit_id', 'tries_amount', 'questionnaire_amount', 'dimensions_amount', 'document_amount', 'current_try', 'q_0_age_question', 'q_0_age_answer', 'q_0_age_value', 'q_0_school_question', 'q_0_school_answer', 'q_0_school_value', 'q_0_taxes_question', 'q_0_taxes_answer', 'q_0_taxes_value', 'q_0_political_views_question', 'q_0_political_views_answer', 'q_0_political_views_value', 'q_0_consideration_question', 'q_0_consideration_answer', 'q_0_consideration_value', 'q_0_southern_border_question', 'q_0_southern_border_answer', 'q_0_southern_border_value', 'q_0_environment_question', 'q_0_environment_answer', 'q_0_environment_value', 'q_0_time_elapsed', 'q_0_accesses', 'q_1_farmers_question', 'q_1_farmers_answer', 'q_1_farmers_value', 'q_1_time_elapsed', 'q_1_accesses', 'q_2_marks_question', 'q_2_marks_answer', 'q_2_marks_value', 'q_2_time_elapsed', 'q_2_accesses', 'q_3_athletics_question', 'q_3_athletics_answer', 'q_3_athletics_value', 'q_3_time_elapsed', 'q_3_accesses', 'doc_index', 'doc_name', 'doc_statement', 'doc_claimant', 'doc_date', 'doc_originatedFrom', 'doc_ground_truth_value', 'doc_ground_truth_abc_label', 'doc_ground_truth_abc_verdict', 'doc_ground_truth_politifact_label', 'doc_source', 'doc_overall-truthfulness_value', 'doc_overall-truthfulness_label', 'doc_overall-truthfulness_justification', 'doc_overall-truthfulness_url', 'doc_confidence_value', 'doc_confidence_label', 'doc_confidence_justification', 'doc_confidence_url', 'doc_correctness_value', 'doc_correctness_label', 'doc_correctness_justification', 'doc_correctness_url', 'doc_neutrality_value', 'doc_neutrality_label', 'doc_neutrality_justification', 'doc_neutrality_url', 'doc_comprehensibility_value', 'doc_comprehensibility_label', 'doc_comprehensibility_justification', 'doc_comprehensibility_url', 'doc_precision_value', 'doc_precision_label', 'doc_precision_justification', 'doc_precision_url', 'doc_completeness_value', 'doc_completeness_label', 'doc_completeness_justification', 'doc_completeness_url', \"doc_speaker's-trustworthiness_value\", \"doc_speaker's-trustworthiness_label\", \"doc_speaker's-trustworthiness_justification\", \"doc_speaker's-trustworthiness_url\", 'doc_informativeness_value', 'doc_informativeness_label', 'doc_informativeness_justification', 'doc_informativeness_url', 'doc_accesses', 'doc_time_elapsed']\n"
     ]
    }
   ],
   "source": [
    "print([col for col in dataf])"
   ]
  },
  {
   "cell_type": "code",
   "execution_count": 74,
   "id": "7e6a2ec6",
   "metadata": {
    "scrolled": true
   },
   "outputs": [
    {
     "data": {
      "text/html": [
       "<div>\n",
       "<style scoped>\n",
       "    .dataframe tbody tr th:only-of-type {\n",
       "        vertical-align: middle;\n",
       "    }\n",
       "\n",
       "    .dataframe tbody tr th {\n",
       "        vertical-align: top;\n",
       "    }\n",
       "\n",
       "    .dataframe thead th {\n",
       "        text-align: right;\n",
       "    }\n",
       "</style>\n",
       "<table border=\"1\" class=\"dataframe\">\n",
       "  <thead>\n",
       "    <tr style=\"text-align: right;\">\n",
       "      <th></th>\n",
       "      <th>unit_id</th>\n",
       "      <th>current_try</th>\n",
       "      <th>q_0_age_answer</th>\n",
       "      <th>q_0_school_answer</th>\n",
       "      <th>q_0_taxes_answer</th>\n",
       "      <th>q_0_political_views_answer</th>\n",
       "      <th>q_0_consideration_answer</th>\n",
       "      <th>q_0_southern_border_answer</th>\n",
       "      <th>q_0_environment_answer</th>\n",
       "      <th>q_0_time_elapsed</th>\n",
       "      <th>...</th>\n",
       "      <th>doc_confidence_value</th>\n",
       "      <th>doc_correctness_value</th>\n",
       "      <th>doc_neutrality_value</th>\n",
       "      <th>doc_comprehensibility_value</th>\n",
       "      <th>doc_precision_value</th>\n",
       "      <th>doc_completeness_value</th>\n",
       "      <th>doc_speaker's-trustworthiness_value</th>\n",
       "      <th>doc_informativeness_value</th>\n",
       "      <th>doc_accesses</th>\n",
       "      <th>doc_time_elapsed</th>\n",
       "    </tr>\n",
       "  </thead>\n",
       "  <tbody>\n",
       "    <tr>\n",
       "      <th>0</th>\n",
       "      <td>unit_1</td>\n",
       "      <td>1</td>\n",
       "      <td>26-35</td>\n",
       "      <td>Some college (some community college, associat...</td>\n",
       "      <td>30,000 to less than 40,000</td>\n",
       "      <td>Very liberal</td>\n",
       "      <td>Independent</td>\n",
       "      <td>Disagree</td>\n",
       "      <td>Agree</td>\n",
       "      <td>38.60</td>\n",
       "      <td>...</td>\n",
       "      <td>-1.0</td>\n",
       "      <td>1.0</td>\n",
       "      <td>1.0</td>\n",
       "      <td>1.0</td>\n",
       "      <td>1.0</td>\n",
       "      <td>-1.0</td>\n",
       "      <td>0.0</td>\n",
       "      <td>1.0</td>\n",
       "      <td>1.0</td>\n",
       "      <td>175.61</td>\n",
       "    </tr>\n",
       "    <tr>\n",
       "      <th>1</th>\n",
       "      <td>unit_1</td>\n",
       "      <td>1</td>\n",
       "      <td>26-35</td>\n",
       "      <td>Some college (some community college, associat...</td>\n",
       "      <td>30,000 to less than 40,000</td>\n",
       "      <td>Very liberal</td>\n",
       "      <td>Independent</td>\n",
       "      <td>Disagree</td>\n",
       "      <td>Agree</td>\n",
       "      <td>38.60</td>\n",
       "      <td>...</td>\n",
       "      <td>0.0</td>\n",
       "      <td>2.0</td>\n",
       "      <td>-1.0</td>\n",
       "      <td>2.0</td>\n",
       "      <td>2.0</td>\n",
       "      <td>2.0</td>\n",
       "      <td>2.0</td>\n",
       "      <td>2.0</td>\n",
       "      <td>1.0</td>\n",
       "      <td>88.39</td>\n",
       "    </tr>\n",
       "    <tr>\n",
       "      <th>2</th>\n",
       "      <td>unit_1</td>\n",
       "      <td>1</td>\n",
       "      <td>26-35</td>\n",
       "      <td>Some college (some community college, associat...</td>\n",
       "      <td>30,000 to less than 40,000</td>\n",
       "      <td>Very liberal</td>\n",
       "      <td>Independent</td>\n",
       "      <td>Disagree</td>\n",
       "      <td>Agree</td>\n",
       "      <td>38.60</td>\n",
       "      <td>...</td>\n",
       "      <td>0.0</td>\n",
       "      <td>0.0</td>\n",
       "      <td>-1.0</td>\n",
       "      <td>2.0</td>\n",
       "      <td>2.0</td>\n",
       "      <td>-1.0</td>\n",
       "      <td>0.0</td>\n",
       "      <td>1.0</td>\n",
       "      <td>1.0</td>\n",
       "      <td>84.60</td>\n",
       "    </tr>\n",
       "    <tr>\n",
       "      <th>3</th>\n",
       "      <td>unit_1</td>\n",
       "      <td>1</td>\n",
       "      <td>26-35</td>\n",
       "      <td>Some college (some community college, associat...</td>\n",
       "      <td>30,000 to less than 40,000</td>\n",
       "      <td>Very liberal</td>\n",
       "      <td>Independent</td>\n",
       "      <td>Disagree</td>\n",
       "      <td>Agree</td>\n",
       "      <td>38.60</td>\n",
       "      <td>...</td>\n",
       "      <td>2.0</td>\n",
       "      <td>2.0</td>\n",
       "      <td>2.0</td>\n",
       "      <td>2.0</td>\n",
       "      <td>2.0</td>\n",
       "      <td>2.0</td>\n",
       "      <td>2.0</td>\n",
       "      <td>0.0</td>\n",
       "      <td>1.0</td>\n",
       "      <td>53.41</td>\n",
       "    </tr>\n",
       "    <tr>\n",
       "      <th>4</th>\n",
       "      <td>unit_1</td>\n",
       "      <td>1</td>\n",
       "      <td>26-35</td>\n",
       "      <td>Some college (some community college, associat...</td>\n",
       "      <td>30,000 to less than 40,000</td>\n",
       "      <td>Very liberal</td>\n",
       "      <td>Independent</td>\n",
       "      <td>Disagree</td>\n",
       "      <td>Agree</td>\n",
       "      <td>38.60</td>\n",
       "      <td>...</td>\n",
       "      <td>-1.0</td>\n",
       "      <td>0.0</td>\n",
       "      <td>2.0</td>\n",
       "      <td>2.0</td>\n",
       "      <td>2.0</td>\n",
       "      <td>2.0</td>\n",
       "      <td>0.0</td>\n",
       "      <td>2.0</td>\n",
       "      <td>1.0</td>\n",
       "      <td>361.84</td>\n",
       "    </tr>\n",
       "    <tr>\n",
       "      <th>...</th>\n",
       "      <td>...</td>\n",
       "      <td>...</td>\n",
       "      <td>...</td>\n",
       "      <td>...</td>\n",
       "      <td>...</td>\n",
       "      <td>...</td>\n",
       "      <td>...</td>\n",
       "      <td>...</td>\n",
       "      <td>...</td>\n",
       "      <td>...</td>\n",
       "      <td>...</td>\n",
       "      <td>...</td>\n",
       "      <td>...</td>\n",
       "      <td>...</td>\n",
       "      <td>...</td>\n",
       "      <td>...</td>\n",
       "      <td>...</td>\n",
       "      <td>...</td>\n",
       "      <td>...</td>\n",
       "      <td>...</td>\n",
       "      <td>...</td>\n",
       "    </tr>\n",
       "    <tr>\n",
       "      <th>2195</th>\n",
       "      <td>unit_156</td>\n",
       "      <td>1</td>\n",
       "      <td>36-50</td>\n",
       "      <td>Four year college degree/bachelor’s degree</td>\n",
       "      <td>75,000 to less than 100,000</td>\n",
       "      <td>Moderate</td>\n",
       "      <td>Democrat</td>\n",
       "      <td>No opinion either way</td>\n",
       "      <td>Agree</td>\n",
       "      <td>371.26</td>\n",
       "      <td>...</td>\n",
       "      <td>1.0</td>\n",
       "      <td>0.0</td>\n",
       "      <td>1.0</td>\n",
       "      <td>1.0</td>\n",
       "      <td>0.0</td>\n",
       "      <td>1.0</td>\n",
       "      <td>0.0</td>\n",
       "      <td>0.0</td>\n",
       "      <td>1.0</td>\n",
       "      <td>74.91</td>\n",
       "    </tr>\n",
       "    <tr>\n",
       "      <th>2196</th>\n",
       "      <td>unit_156</td>\n",
       "      <td>1</td>\n",
       "      <td>36-50</td>\n",
       "      <td>Four year college degree/bachelor’s degree</td>\n",
       "      <td>75,000 to less than 100,000</td>\n",
       "      <td>Moderate</td>\n",
       "      <td>Democrat</td>\n",
       "      <td>No opinion either way</td>\n",
       "      <td>Agree</td>\n",
       "      <td>371.26</td>\n",
       "      <td>...</td>\n",
       "      <td>1.0</td>\n",
       "      <td>0.0</td>\n",
       "      <td>1.0</td>\n",
       "      <td>0.0</td>\n",
       "      <td>1.0</td>\n",
       "      <td>0.0</td>\n",
       "      <td>1.0</td>\n",
       "      <td>0.0</td>\n",
       "      <td>1.0</td>\n",
       "      <td>53.62</td>\n",
       "    </tr>\n",
       "    <tr>\n",
       "      <th>2197</th>\n",
       "      <td>unit_156</td>\n",
       "      <td>1</td>\n",
       "      <td>36-50</td>\n",
       "      <td>Four year college degree/bachelor’s degree</td>\n",
       "      <td>75,000 to less than 100,000</td>\n",
       "      <td>Moderate</td>\n",
       "      <td>Democrat</td>\n",
       "      <td>No opinion either way</td>\n",
       "      <td>Agree</td>\n",
       "      <td>371.26</td>\n",
       "      <td>...</td>\n",
       "      <td>1.0</td>\n",
       "      <td>0.0</td>\n",
       "      <td>1.0</td>\n",
       "      <td>1.0</td>\n",
       "      <td>0.0</td>\n",
       "      <td>1.0</td>\n",
       "      <td>0.0</td>\n",
       "      <td>1.0</td>\n",
       "      <td>1.0</td>\n",
       "      <td>115.88</td>\n",
       "    </tr>\n",
       "    <tr>\n",
       "      <th>2198</th>\n",
       "      <td>unit_156</td>\n",
       "      <td>1</td>\n",
       "      <td>36-50</td>\n",
       "      <td>Four year college degree/bachelor’s degree</td>\n",
       "      <td>75,000 to less than 100,000</td>\n",
       "      <td>Moderate</td>\n",
       "      <td>Democrat</td>\n",
       "      <td>No opinion either way</td>\n",
       "      <td>Agree</td>\n",
       "      <td>371.26</td>\n",
       "      <td>...</td>\n",
       "      <td>1.0</td>\n",
       "      <td>0.0</td>\n",
       "      <td>1.0</td>\n",
       "      <td>1.0</td>\n",
       "      <td>0.0</td>\n",
       "      <td>1.0</td>\n",
       "      <td>0.0</td>\n",
       "      <td>1.0</td>\n",
       "      <td>1.0</td>\n",
       "      <td>72.78</td>\n",
       "    </tr>\n",
       "    <tr>\n",
       "      <th>2199</th>\n",
       "      <td>unit_156</td>\n",
       "      <td>1</td>\n",
       "      <td>36-50</td>\n",
       "      <td>Four year college degree/bachelor’s degree</td>\n",
       "      <td>75,000 to less than 100,000</td>\n",
       "      <td>Moderate</td>\n",
       "      <td>Democrat</td>\n",
       "      <td>No opinion either way</td>\n",
       "      <td>Agree</td>\n",
       "      <td>371.26</td>\n",
       "      <td>...</td>\n",
       "      <td>1.0</td>\n",
       "      <td>0.0</td>\n",
       "      <td>1.0</td>\n",
       "      <td>0.0</td>\n",
       "      <td>1.0</td>\n",
       "      <td>0.0</td>\n",
       "      <td>1.0</td>\n",
       "      <td>0.0</td>\n",
       "      <td>1.0</td>\n",
       "      <td>113.93</td>\n",
       "    </tr>\n",
       "  </tbody>\n",
       "</table>\n",
       "<p>2190 rows × 40 columns</p>\n",
       "</div>"
      ],
      "text/plain": [
       "       unit_id  current_try q_0_age_answer  \\\n",
       "0       unit_1            1          26-35   \n",
       "1       unit_1            1          26-35   \n",
       "2       unit_1            1          26-35   \n",
       "3       unit_1            1          26-35   \n",
       "4       unit_1            1          26-35   \n",
       "...        ...          ...            ...   \n",
       "2195  unit_156            1          36-50   \n",
       "2196  unit_156            1          36-50   \n",
       "2197  unit_156            1          36-50   \n",
       "2198  unit_156            1          36-50   \n",
       "2199  unit_156            1          36-50   \n",
       "\n",
       "                                      q_0_school_answer  \\\n",
       "0     Some college (some community college, associat...   \n",
       "1     Some college (some community college, associat...   \n",
       "2     Some college (some community college, associat...   \n",
       "3     Some college (some community college, associat...   \n",
       "4     Some college (some community college, associat...   \n",
       "...                                                 ...   \n",
       "2195         Four year college degree/bachelor’s degree   \n",
       "2196         Four year college degree/bachelor’s degree   \n",
       "2197         Four year college degree/bachelor’s degree   \n",
       "2198         Four year college degree/bachelor’s degree   \n",
       "2199         Four year college degree/bachelor’s degree   \n",
       "\n",
       "                 q_0_taxes_answer q_0_political_views_answer  \\\n",
       "0      30,000 to less than 40,000               Very liberal   \n",
       "1      30,000 to less than 40,000               Very liberal   \n",
       "2      30,000 to less than 40,000               Very liberal   \n",
       "3      30,000 to less than 40,000               Very liberal   \n",
       "4      30,000 to less than 40,000               Very liberal   \n",
       "...                           ...                        ...   \n",
       "2195  75,000 to less than 100,000                   Moderate   \n",
       "2196  75,000 to less than 100,000                   Moderate   \n",
       "2197  75,000 to less than 100,000                   Moderate   \n",
       "2198  75,000 to less than 100,000                   Moderate   \n",
       "2199  75,000 to less than 100,000                   Moderate   \n",
       "\n",
       "     q_0_consideration_answer q_0_southern_border_answer  \\\n",
       "0                 Independent                   Disagree   \n",
       "1                 Independent                   Disagree   \n",
       "2                 Independent                   Disagree   \n",
       "3                 Independent                   Disagree   \n",
       "4                 Independent                   Disagree   \n",
       "...                       ...                        ...   \n",
       "2195                 Democrat      No opinion either way   \n",
       "2196                 Democrat      No opinion either way   \n",
       "2197                 Democrat      No opinion either way   \n",
       "2198                 Democrat      No opinion either way   \n",
       "2199                 Democrat      No opinion either way   \n",
       "\n",
       "     q_0_environment_answer  q_0_time_elapsed  ... doc_confidence_value  \\\n",
       "0                     Agree             38.60  ...                 -1.0   \n",
       "1                     Agree             38.60  ...                  0.0   \n",
       "2                     Agree             38.60  ...                  0.0   \n",
       "3                     Agree             38.60  ...                  2.0   \n",
       "4                     Agree             38.60  ...                 -1.0   \n",
       "...                     ...               ...  ...                  ...   \n",
       "2195                  Agree            371.26  ...                  1.0   \n",
       "2196                  Agree            371.26  ...                  1.0   \n",
       "2197                  Agree            371.26  ...                  1.0   \n",
       "2198                  Agree            371.26  ...                  1.0   \n",
       "2199                  Agree            371.26  ...                  1.0   \n",
       "\n",
       "      doc_correctness_value  doc_neutrality_value doc_comprehensibility_value  \\\n",
       "0                       1.0                   1.0                         1.0   \n",
       "1                       2.0                  -1.0                         2.0   \n",
       "2                       0.0                  -1.0                         2.0   \n",
       "3                       2.0                   2.0                         2.0   \n",
       "4                       0.0                   2.0                         2.0   \n",
       "...                     ...                   ...                         ...   \n",
       "2195                    0.0                   1.0                         1.0   \n",
       "2196                    0.0                   1.0                         0.0   \n",
       "2197                    0.0                   1.0                         1.0   \n",
       "2198                    0.0                   1.0                         1.0   \n",
       "2199                    0.0                   1.0                         0.0   \n",
       "\n",
       "      doc_precision_value  doc_completeness_value  \\\n",
       "0                     1.0                    -1.0   \n",
       "1                     2.0                     2.0   \n",
       "2                     2.0                    -1.0   \n",
       "3                     2.0                     2.0   \n",
       "4                     2.0                     2.0   \n",
       "...                   ...                     ...   \n",
       "2195                  0.0                     1.0   \n",
       "2196                  1.0                     0.0   \n",
       "2197                  0.0                     1.0   \n",
       "2198                  0.0                     1.0   \n",
       "2199                  1.0                     0.0   \n",
       "\n",
       "      doc_speaker's-trustworthiness_value  doc_informativeness_value  \\\n",
       "0                                     0.0                        1.0   \n",
       "1                                     2.0                        2.0   \n",
       "2                                     0.0                        1.0   \n",
       "3                                     2.0                        0.0   \n",
       "4                                     0.0                        2.0   \n",
       "...                                   ...                        ...   \n",
       "2195                                  0.0                        0.0   \n",
       "2196                                  1.0                        0.0   \n",
       "2197                                  0.0                        1.0   \n",
       "2198                                  0.0                        1.0   \n",
       "2199                                  1.0                        0.0   \n",
       "\n",
       "     doc_accesses doc_time_elapsed  \n",
       "0             1.0           175.61  \n",
       "1             1.0            88.39  \n",
       "2             1.0            84.60  \n",
       "3             1.0            53.41  \n",
       "4             1.0           361.84  \n",
       "...           ...              ...  \n",
       "2195          1.0            74.91  \n",
       "2196          1.0            53.62  \n",
       "2197          1.0           115.88  \n",
       "2198          1.0            72.78  \n",
       "2199          1.0           113.93  \n",
       "\n",
       "[2190 rows x 40 columns]"
      ]
     },
     "execution_count": 74,
     "metadata": {},
     "output_type": "execute_result"
    }
   ],
   "source": [
    "data=dataf[[col for col in dataf if \n",
    "            col=='unit_id' or\n",
    "            col=='current_try' or\n",
    "            (col.startswith('q_0') and col.endswith('answer')) or\n",
    "            (col.startswith(('q_1','q_2')) and col.endswith(('question','value'))) or\n",
    "            col.endswith('elapsed') or\n",
    "            (col.startswith('doc_') and (col.endswith(('politifact_label','abc_label','accesses','doc_overall-truthfulness_url')) or not col.endswith(('label','justification','url'))))\n",
    "             ]]\n",
    "data=data.loc[data['doc_name']!='DEM_BARELYTRUE_doc7']\n",
    "data"
   ]
  },
  {
   "cell_type": "markdown",
   "id": "8aae9969",
   "metadata": {},
   "source": [
    "## ----------------------------------------------------------------------------------------------------------------------------------"
   ]
  },
  {
   "cell_type": "code",
   "execution_count": 75,
   "id": "f487f22d",
   "metadata": {},
   "outputs": [],
   "source": [
    "def create_rows_file(data, wrong_correct, false_true, false_true_labels, source, mean_value, n_stat):\n",
    "#false_true_labels: lista con 1 elemento se source != 'all', altrimenti 2 elementi ['label_abc', 'label_politifact']\n",
    "    source=source.lower()\n",
    "    if(source=='all'):\n",
    "        data_rows=data.loc[(data['doc_ground_truth_abc_label']==false_true_labels[0]) | (data['doc_ground_truth_politifact_label']==false_true_labels[1])]\n",
    "    else:\n",
    "        data_rows=data.loc[(data[f\"doc_ground_truth_{source}_label\"]==false_true_labels[0])]\n",
    "            \n",
    "    statements_rows=data_rows.groupby('doc_name',as_index = False)[mean_value].mean().sort_values(by=mean_value)\n",
    "    if((wrong_correct=='wrong' and false_true=='false') or (wrong_correct=='correct' and false_true=='true')):\n",
    "        statements_rows=statements_rows.tail(n_stat)['doc_name'].values\n",
    "    else:\n",
    "        statements_rows=statements_rows.head(n_stat)['doc_name'].values\n",
    "\n",
    "    rows=data_rows.loc[data_rows['doc_name'].isin(statements_rows)]\n",
    "    rows.to_csv(f\"../Dati/rows/{wrong_correct}_{false_true}_{source}_{n_stat}.csv\", index=False)"
   ]
  },
  {
   "cell_type": "markdown",
   "id": "f1bf9cba",
   "metadata": {},
   "source": [
    "## Wrong"
   ]
  },
  {
   "cell_type": "markdown",
   "id": "89930d82",
   "metadata": {},
   "source": [
    "### Wrong all"
   ]
  },
  {
   "cell_type": "markdown",
   "id": "08a43080",
   "metadata": {},
   "source": [
    "#### Wrong all false"
   ]
  },
  {
   "cell_type": "markdown",
   "id": "aa432414",
   "metadata": {},
   "source": [
    "Selezione wrong con ground truth = negative per statement *ABC* e ground truth = pants-on-fire per statement *POLITIFACT*"
   ]
  },
  {
   "cell_type": "code",
   "execution_count": 76,
   "id": "9431bf87",
   "metadata": {},
   "outputs": [],
   "source": [
    "create_rows_file(data,'wrong','false',['negative', 'pants-on-fire'],'all','doc_overall-truthfulness_value',n_stat)"
   ]
  },
  {
   "cell_type": "markdown",
   "id": "ce4f563a",
   "metadata": {},
   "source": [
    "#### Wrong all true"
   ]
  },
  {
   "cell_type": "markdown",
   "id": "edec1303",
   "metadata": {},
   "source": [
    "Selezione wrong con ground truth = positive per statement *ABC* e ground truth = TRUE per statement *POLITIFACT*"
   ]
  },
  {
   "cell_type": "code",
   "execution_count": 77,
   "id": "fd47b379",
   "metadata": {},
   "outputs": [],
   "source": [
    "create_rows_file(data,'wrong','true',['positive', 'TRUE'],'all','doc_overall-truthfulness_value',n_stat)"
   ]
  },
  {
   "cell_type": "markdown",
   "id": "af1a7d4c",
   "metadata": {},
   "source": [
    "### Wrong POLITIFACT"
   ]
  },
  {
   "cell_type": "markdown",
   "id": "05c9f289",
   "metadata": {},
   "source": [
    "#### Wrong POLITIFACT false"
   ]
  },
  {
   "cell_type": "markdown",
   "id": "b47f9fd0",
   "metadata": {},
   "source": [
    "Selezione wrong con ground truth = pants-on-fire per statement *POLITIFACT*"
   ]
  },
  {
   "cell_type": "code",
   "execution_count": 78,
   "id": "67289907",
   "metadata": {},
   "outputs": [],
   "source": [
    "create_rows_file(data,'wrong','false',['pants-on-fire'],'POLITIFACT','doc_overall-truthfulness_value',n_stat)"
   ]
  },
  {
   "cell_type": "markdown",
   "id": "1baf6ec9",
   "metadata": {},
   "source": [
    "#### Wrong POLITIFACT true"
   ]
  },
  {
   "cell_type": "markdown",
   "id": "8567e551",
   "metadata": {},
   "source": [
    "Selezione wrong con ground truth = TRUE per statement *POLITIFACT*"
   ]
  },
  {
   "cell_type": "code",
   "execution_count": 79,
   "id": "bea8d1f4",
   "metadata": {},
   "outputs": [],
   "source": [
    "create_rows_file(data,'wrong','true',['TRUE'],'POLITIFACT','doc_overall-truthfulness_value',n_stat)"
   ]
  },
  {
   "cell_type": "markdown",
   "id": "e9b660bc",
   "metadata": {},
   "source": [
    "### Wrong ABC"
   ]
  },
  {
   "cell_type": "markdown",
   "id": "580288f5",
   "metadata": {},
   "source": [
    "#### Wrong ABC false"
   ]
  },
  {
   "cell_type": "markdown",
   "id": "3f0a8f1e",
   "metadata": {},
   "source": [
    "Selezione wrong con ground truth = negative per statement *ABC*"
   ]
  },
  {
   "cell_type": "code",
   "execution_count": null,
   "id": "52a8abc6",
   "metadata": {},
   "outputs": [],
   "source": [
    "create_rows_file(data,'wrong','',[''],'','','doc_overall-truthfulness_value',n_stat)"
   ]
  },
  {
   "cell_type": "code",
   "execution_count": 80,
   "id": "a572380a",
   "metadata": {},
   "outputs": [],
   "source": [
    "create_rows_file(data,'wrong','false',['negative'],'ABC','doc_overall-truthfulness_value',n_stat)"
   ]
  },
  {
   "cell_type": "markdown",
   "id": "68db5f21",
   "metadata": {},
   "source": [
    "#### Wrong ABC true"
   ]
  },
  {
   "cell_type": "markdown",
   "id": "980f2f02",
   "metadata": {},
   "source": [
    "Selezione wrong con ground truth = positive per statement *ABC*"
   ]
  },
  {
   "cell_type": "code",
   "execution_count": null,
   "id": "017fae37",
   "metadata": {},
   "outputs": [],
   "source": [
    "create_rows_file(data,'wrong','',[''],'','','doc_overall-truthfulness_value',n_stat)"
   ]
  },
  {
   "cell_type": "code",
   "execution_count": 81,
   "id": "68be0c11",
   "metadata": {},
   "outputs": [],
   "source": [
    "create_rows_file(data,'wrong','true',['positive'],'ABC','doc_overall-truthfulness_value',n_stat)"
   ]
  },
  {
   "cell_type": "markdown",
   "id": "fe17c2f4",
   "metadata": {},
   "source": [
    "## ----------------------------------------------------------------------------------------------------------------------------------"
   ]
  },
  {
   "cell_type": "markdown",
   "id": "a8b650b0",
   "metadata": {},
   "source": [
    "## Correct"
   ]
  },
  {
   "cell_type": "markdown",
   "id": "7492e040",
   "metadata": {},
   "source": [
    "### Correct all"
   ]
  },
  {
   "cell_type": "markdown",
   "id": "0f041a5f",
   "metadata": {},
   "source": [
    "#### Correct all false"
   ]
  },
  {
   "cell_type": "markdown",
   "id": "c4ef0fe4",
   "metadata": {},
   "source": [
    "Selezione correct con ground truth = negative per statement *ABC* e ground truth = pants-on-fire per statement *POLITIFACT*"
   ]
  },
  {
   "cell_type": "code",
   "execution_count": null,
   "id": "752886a4",
   "metadata": {},
   "outputs": [],
   "source": [
    "create_rows_file(data,'wrong','',[''],'','doc_overall-truthfulness_value',n_stat)"
   ]
  },
  {
   "cell_type": "code",
   "execution_count": 82,
   "id": "3f6386f5",
   "metadata": {},
   "outputs": [],
   "source": [
    "create_rows_file(data,'correct','false',['negative','pants-on-fire'],'all','doc_overall-truthfulness_value',n_stat)"
   ]
  },
  {
   "cell_type": "markdown",
   "id": "b8bfe55c",
   "metadata": {},
   "source": [
    "#### Correct all true"
   ]
  },
  {
   "cell_type": "markdown",
   "id": "01e59d77",
   "metadata": {},
   "source": [
    "Selezione correct con ground truth = positive per statement *ABC* e ground truth = TRUE per statement *POLITIFACT*"
   ]
  },
  {
   "cell_type": "code",
   "execution_count": null,
   "id": "00bd3944",
   "metadata": {},
   "outputs": [],
   "source": [
    "create_rows_file(data,'wrong','',[''],'','doc_overall-truthfulness_value',n_stat)"
   ]
  },
  {
   "cell_type": "code",
   "execution_count": 83,
   "id": "a444adb0",
   "metadata": {},
   "outputs": [],
   "source": [
    "create_rows_file(data,'correct','true',['positive','TRUE'],'all','doc_overall-truthfulness_value',n_stat)"
   ]
  },
  {
   "cell_type": "markdown",
   "id": "7f074405",
   "metadata": {},
   "source": [
    "### Correct POLITIFACT"
   ]
  },
  {
   "cell_type": "markdown",
   "id": "153aa02a",
   "metadata": {},
   "source": [
    "#### Correct POLITIFACT false"
   ]
  },
  {
   "cell_type": "markdown",
   "id": "d2fee969",
   "metadata": {},
   "source": [
    "Selezione correct con ground truth = pants-on-fire per statement *POLITIFACT*"
   ]
  },
  {
   "cell_type": "code",
   "execution_count": 84,
   "id": "961181ce",
   "metadata": {},
   "outputs": [],
   "source": [
    "create_rows_file(data,'correct','false',['pants-on-fire'],'POLITIFACT','doc_overall-truthfulness_value',n_stat)"
   ]
  },
  {
   "cell_type": "markdown",
   "id": "4bc8e35e",
   "metadata": {},
   "source": [
    "#### Correct POLITIFACT true"
   ]
  },
  {
   "cell_type": "markdown",
   "id": "befaf493",
   "metadata": {},
   "source": [
    "Selezione correct con ground truth = TRUE per statement *POLITIFACT*"
   ]
  },
  {
   "cell_type": "code",
   "execution_count": 85,
   "id": "d12ef21b",
   "metadata": {},
   "outputs": [],
   "source": [
    "create_rows_file(data,'correct','true',['TRUE'],'POLITIFACT','doc_overall-truthfulness_value',n_stat)"
   ]
  },
  {
   "cell_type": "markdown",
   "id": "d995b0c0",
   "metadata": {},
   "source": [
    "### Correct ABC"
   ]
  },
  {
   "cell_type": "markdown",
   "id": "4be81641",
   "metadata": {},
   "source": [
    "#### Correct ABC false"
   ]
  },
  {
   "cell_type": "markdown",
   "id": "dfa435ef",
   "metadata": {},
   "source": [
    "Selezione correct con ground truth = negative per statement *ABC*"
   ]
  },
  {
   "cell_type": "code",
   "execution_count": 86,
   "id": "3bc75141",
   "metadata": {},
   "outputs": [],
   "source": [
    "create_rows_file(data,'correct','false',['negative'],'ABC','doc_overall-truthfulness_value',n_stat)"
   ]
  },
  {
   "cell_type": "markdown",
   "id": "c283d60a",
   "metadata": {},
   "source": [
    "#### Correct ABC true"
   ]
  },
  {
   "cell_type": "markdown",
   "id": "c256aebc",
   "metadata": {},
   "source": [
    "Selezione correct con ground truth = positive per statement *ABC*"
   ]
  },
  {
   "cell_type": "code",
   "execution_count": 87,
   "id": "1efe8ca5",
   "metadata": {},
   "outputs": [],
   "source": [
    "create_rows_file(data,'correct','true',['positive'],'ABC','doc_overall-truthfulness_value',n_stat)"
   ]
  },
  {
   "cell_type": "markdown",
   "id": "d5701549",
   "metadata": {},
   "source": [
    "## File unico"
   ]
  },
  {
   "cell_type": "code",
   "execution_count": 94,
   "id": "7b17e64e",
   "metadata": {
    "scrolled": true
   },
   "outputs": [],
   "source": [
    "filenames = next(os.walk(\"../Dati/rows\"), (None, None, []))[2]\n",
    "df=pd.DataFrame()\n",
    "for f in filenames:\n",
    "    d=pd.read_csv(f\"../Dati/rows/{f}\")\n",
    "    d.insert(0, 'type', f.split(\".\")[0])\n",
    "    df=pd.concat([df,d])\n",
    "df.to_csv(f\"../Dati/all_rows.csv\",index=False)"
   ]
  },
  {
   "cell_type": "markdown",
   "id": "41573f6e",
   "metadata": {},
   "source": [
    "## ----------------------------------------------------------------------------------------------------------------------------------Analisi groupby"
   ]
  },
  {
   "cell_type": "code",
   "execution_count": null,
   "id": "873b19bd",
   "metadata": {},
   "outputs": [],
   "source": [
    "f_names=['false_wrong','false_right','true_wrong','true_right']\n",
    "cols_=['unit_id','current_try','doc_index','doc_name','doc_claimant','doc_date','doc_source','doc_overall-truthfulness_value','doc_confidence_value','doc_correctness_value',\n",
    "     'doc_neutrality_value','doc_comprehensibility_value', 'doc_precision_value', 'doc_completeness_value', \"doc_speaker's-trustworthiness_value\",\n",
    "     'doc_informativeness_value', 'doc_accesses']"
   ]
  },
  {
   "cell_type": "code",
   "execution_count": null,
   "id": "e53af94a",
   "metadata": {
    "scrolled": false
   },
   "outputs": [],
   "source": [
    "df_col=pd.DataFrame()\n",
    "for col in cols:  \n",
    "    for fname in f_names:\n",
    "        d=pd.read_csv(f\"../Dati/rows/{fname}.csv\")\n",
    "        if(col=='doc_name'):\n",
    "            count=pd.DataFrame({'value': [x.split('_')[0] for x in d['doc_name'].values]}).groupby('value',as_index = False).size().rename(columns={'size':'rate'})\n",
    "        else:\n",
    "            count=d.groupby(col,as_index = False).size().rename(columns={'size':'rate', col:'value'})\n",
    "        count['rate']/=10*n_stat\n",
    "        count.insert(0, 'type', col)\n",
    "        count.insert(0, 'file', fname)\n",
    "        df_col=pd.concat([df_col, count])\n",
    "df_col.to_csv(f\"../Dati/groupby.csv\",index=False)"
   ]
  },
  {
   "cell_type": "markdown",
   "id": "f7257764",
   "metadata": {},
   "source": [
    "## ----------------------------------------------------------------------------------------------------------------------------------Analisi media aritmetica"
   ]
  },
  {
   "cell_type": "markdown",
   "id": "63b65c83",
   "metadata": {},
   "source": [
    "d=pd.read_csv(f\"../Dati/groupby.csv\")\n",
    "df_col=pd.DataFrame()\n",
    "for col in cols:\n",
    "    if(col not in ['unit_id', 'doc_name','doc_claimant', 'doc_date', 'doc_source']):\n",
    "        ..."
   ]
  }
 ],
 "metadata": {
  "kernelspec": {
   "display_name": "Python 3",
   "language": "python",
   "name": "python3"
  },
  "language_info": {
   "codemirror_mode": {
    "name": "ipython",
    "version": 3
   },
   "file_extension": ".py",
   "mimetype": "text/x-python",
   "name": "python",
   "nbconvert_exporter": "python",
   "pygments_lexer": "ipython3",
   "version": "3.9.4"
  }
 },
 "nbformat": 4,
 "nbformat_minor": 5
}
